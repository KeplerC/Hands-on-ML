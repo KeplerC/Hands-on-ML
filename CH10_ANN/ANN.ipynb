{
 "cells": [
  {
   "cell_type": "code",
   "execution_count": 4,
   "metadata": {
    "collapsed": false
   },
   "outputs": [
    {
     "name": "stdout",
     "output_type": "stream",
     "text": [
      "Successfully downloaded train-images-idx3-ubyte.gz 9912422 bytes.\n",
      "Extracting /tmp/data/train-images-idx3-ubyte.gz\n",
      "Successfully downloaded train-labels-idx1-ubyte.gz 28881 bytes.\n",
      "Extracting /tmp/data/train-labels-idx1-ubyte.gz\n",
      "Successfully downloaded t10k-images-idx3-ubyte.gz 1648877 bytes.\n",
      "Extracting /tmp/data/t10k-images-idx3-ubyte.gz\n",
      "Successfully downloaded t10k-labels-idx1-ubyte.gz 4542 bytes.\n",
      "Extracting /tmp/data/t10k-labels-idx1-ubyte.gz\n"
     ]
    }
   ],
   "source": [
    "from tensorflow.examples.tutorials.mnist import input_data\n",
    "\n",
    "mnist = input_data.read_data_sets(\"/tmp/data/\")"
   ]
  },
  {
   "cell_type": "code",
   "execution_count": 6,
   "metadata": {
    "collapsed": true
   },
   "outputs": [],
   "source": [
    "X_train = mnist.train.images\n",
    "X_test = mnist.test.images\n",
    "y_train = mnist.train.labels.astype(\"int\")\n",
    "y_test = mnist.test.labels.astype(\"int\")"
   ]
  },
  {
   "cell_type": "code",
   "execution_count": 7,
   "metadata": {
    "collapsed": true
   },
   "outputs": [],
   "source": [
    "import tensorflow as tf\n",
    "\n",
    "n_inputs = 28*28  # MNIST\n",
    "n_hidden1 = 300\n",
    "n_hidden2 = 100\n",
    "n_outputs = 10"
   ]
  },
  {
   "cell_type": "code",
   "execution_count": 8,
   "metadata": {
    "collapsed": true
   },
   "outputs": [],
   "source": [
    "\n",
    "X = tf.placeholder(tf.float32, shape=(None, n_inputs), name=\"X\")\n",
    "y = tf.placeholder(tf.int64, shape=(None), name=\"y\")"
   ]
  },
  {
   "cell_type": "code",
   "execution_count": 11,
   "metadata": {
    "collapsed": true
   },
   "outputs": [],
   "source": [
    "import numpy as np\n",
    "def neuron_layer(X, n_neurons, name, activation=None):\n",
    "    with tf.name_scope(name): #give Tensorboad a better look\n",
    "        n_inputs = int(X.get_shape()[1]) #input matrix shape \n",
    "        stddev = 2 / np.sqrt(n_inputs) # make weight a truncated guassian distribution, it will make matrix converge faster\n",
    "        init = tf.truncated_normal((n_inputs, n_neurons), stddev=stddev)\n",
    "        W = tf.Variable(init, name=\"kernel\") \n",
    "        b = tf.Variable(tf.zeros([n_neurons]), name=\"bias\") #bias\n",
    "        Z = tf.matmul(X, W) + b #subgraph \n",
    "        if activation is not None:\n",
    "            return activation(Z)\n",
    "        else:\n",
    "            return Z"
   ]
  },
  {
   "cell_type": "code",
   "execution_count": 12,
   "metadata": {
    "collapsed": false
   },
   "outputs": [],
   "source": [
    "with tf.name_scope(\"dnn\"):\n",
    "    hidden1 = neuron_layer(X, n_hidden1, name=\"hidden1\",\n",
    "                           activation=tf.nn.relu)\n",
    "    hidden2 = neuron_layer(hidden1, n_hidden2, name=\"hidden2\",\n",
    "                           activation=tf.nn.relu)\n",
    "    logits = neuron_layer(hidden2, n_outputs, name=\"outputs\")"
   ]
  },
  {
   "cell_type": "code",
   "execution_count": 13,
   "metadata": {
    "collapsed": true
   },
   "outputs": [],
   "source": [
    "with tf.name_scope(\"loss\"):\n",
    "    xentropy = tf.nn.sparse_softmax_cross_entropy_with_logits(labels=y,\n",
    "                                                              logits=logits)\n",
    "    loss = tf.reduce_mean(xentropy, name=\"loss\")"
   ]
  },
  {
   "cell_type": "code",
   "execution_count": 14,
   "metadata": {
    "collapsed": true
   },
   "outputs": [],
   "source": [
    "learning_rate = 0.01\n",
    "\n",
    "with tf.name_scope(\"train\"):\n",
    "    optimizer = tf.train.GradientDescentOptimizer(learning_rate)\n",
    "    training_op = optimizer.minimize(loss)"
   ]
  },
  {
   "cell_type": "code",
   "execution_count": 15,
   "metadata": {
    "collapsed": true
   },
   "outputs": [],
   "source": [
    "with tf.name_scope(\"eval\"):\n",
    "    correct = tf.nn.in_top_k(logits, y, 1)\n",
    "    accuracy = tf.reduce_mean(tf.cast(correct, tf.float32))"
   ]
  },
  {
   "cell_type": "code",
   "execution_count": 16,
   "metadata": {
    "collapsed": true
   },
   "outputs": [],
   "source": [
    "init = tf.global_variables_initializer()\n",
    "saver = tf.train.Saver()"
   ]
  },
  {
   "cell_type": "code",
   "execution_count": 18,
   "metadata": {
    "collapsed": false
   },
   "outputs": [
    {
     "name": "stdout",
     "output_type": "stream",
     "text": [
      "(0, 'Train accuracy:', 0.83999997, 'Test accuracy:', 0.90780002)\n",
      "(1, 'Train accuracy:', 0.89999998, 'Test accuracy:', 0.92979997)\n",
      "(2, 'Train accuracy:', 0.98000002, 'Test accuracy:', 0.9364)\n",
      "(3, 'Train accuracy:', 1.0, 'Test accuracy:', 0.94279999)\n",
      "(4, 'Train accuracy:', 0.89999998, 'Test accuracy:', 0.94840002)\n",
      "(5, 'Train accuracy:', 0.95999998, 'Test accuracy:', 0.95249999)\n",
      "(6, 'Train accuracy:', 0.95999998, 'Test accuracy:', 0.95469999)\n",
      "(7, 'Train accuracy:', 0.94, 'Test accuracy:', 0.95810002)\n",
      "(8, 'Train accuracy:', 0.92000002, 'Test accuracy:', 0.9605)\n",
      "(9, 'Train accuracy:', 0.98000002, 'Test accuracy:', 0.9623)\n",
      "(10, 'Train accuracy:', 1.0, 'Test accuracy:', 0.96350002)\n",
      "(11, 'Train accuracy:', 0.98000002, 'Test accuracy:', 0.96530002)\n",
      "(12, 'Train accuracy:', 0.98000002, 'Test accuracy:', 0.9673)\n",
      "(13, 'Train accuracy:', 0.98000002, 'Test accuracy:', 0.96810001)\n",
      "(14, 'Train accuracy:', 0.95999998, 'Test accuracy:', 0.96890002)\n",
      "(15, 'Train accuracy:', 0.98000002, 'Test accuracy:', 0.96950001)\n",
      "(16, 'Train accuracy:', 1.0, 'Test accuracy:', 0.96939999)\n",
      "(17, 'Train accuracy:', 0.98000002, 'Test accuracy:', 0.96880001)\n",
      "(18, 'Train accuracy:', 1.0, 'Test accuracy:', 0.97100002)\n",
      "(19, 'Train accuracy:', 1.0, 'Test accuracy:', 0.972)\n",
      "(20, 'Train accuracy:', 0.98000002, 'Test accuracy:', 0.97289997)\n",
      "(21, 'Train accuracy:', 0.98000002, 'Test accuracy:', 0.97299999)\n",
      "(22, 'Train accuracy:', 0.94, 'Test accuracy:', 0.9727)\n",
      "(23, 'Train accuracy:', 1.0, 'Test accuracy:', 0.97369999)\n",
      "(24, 'Train accuracy:', 0.98000002, 'Test accuracy:', 0.9738)\n",
      "(25, 'Train accuracy:', 1.0, 'Test accuracy:', 0.97409999)\n",
      "(26, 'Train accuracy:', 0.98000002, 'Test accuracy:', 0.97439998)\n",
      "(27, 'Train accuracy:', 1.0, 'Test accuracy:', 0.97530001)\n",
      "(28, 'Train accuracy:', 1.0, 'Test accuracy:', 0.97359997)\n",
      "(29, 'Train accuracy:', 0.98000002, 'Test accuracy:', 0.97469997)\n",
      "(30, 'Train accuracy:', 1.0, 'Test accuracy:', 0.97430003)\n",
      "(31, 'Train accuracy:', 1.0, 'Test accuracy:', 0.9756)\n",
      "(32, 'Train accuracy:', 1.0, 'Test accuracy:', 0.97439998)\n",
      "(33, 'Train accuracy:', 1.0, 'Test accuracy:', 0.97479999)\n",
      "(34, 'Train accuracy:', 1.0, 'Test accuracy:', 0.97570002)\n",
      "(35, 'Train accuracy:', 1.0, 'Test accuracy:', 0.9752)\n",
      "(36, 'Train accuracy:', 0.98000002, 'Test accuracy:', 0.97509998)\n",
      "(37, 'Train accuracy:', 1.0, 'Test accuracy:', 0.97530001)\n",
      "(38, 'Train accuracy:', 1.0, 'Test accuracy:', 0.97589999)\n",
      "(39, 'Train accuracy:', 1.0, 'Test accuracy:', 0.97579998)\n"
     ]
    }
   ],
   "source": [
    "#Execution stage\n",
    "n_epochs = 40\n",
    "batch_size = 50\n",
    "with tf.Session() as sess:\n",
    "    init.run()\n",
    "    for epoch in range(n_epochs):\n",
    "        for iteration in range(mnist.train.num_examples // batch_size):\n",
    "            X_batch, y_batch = mnist.train.next_batch(batch_size)\n",
    "            sess.run(training_op, feed_dict={X: X_batch, y: y_batch})\n",
    "        acc_train = accuracy.eval(feed_dict={X: X_batch, y: y_batch})\n",
    "        acc_test = accuracy.eval(feed_dict={X: mnist.test.images,\n",
    "                                            y: mnist.test.labels})\n",
    "        print(epoch, \"Train accuracy:\", acc_train, \"Test accuracy:\", acc_test)\n",
    "\n",
    "    save_path = saver.save(sess, \"./my_model_final.ckpt\")"
   ]
  }
 ],
 "metadata": {
  "kernelspec": {
   "display_name": "Python 2",
   "language": "python",
   "name": "python2"
  },
  "language_info": {
   "codemirror_mode": {
    "name": "ipython",
    "version": 2
   },
   "file_extension": ".py",
   "mimetype": "text/x-python",
   "name": "python",
   "nbconvert_exporter": "python",
   "pygments_lexer": "ipython2",
   "version": "2.7.13"
  }
 },
 "nbformat": 4,
 "nbformat_minor": 2
}
